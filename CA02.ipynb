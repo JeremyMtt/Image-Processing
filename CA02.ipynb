{
 "cells": [
  {
   "cell_type": "markdown",
   "metadata": {},
   "source": [
    "# COMPUTER ASSIGNMENT 02"
   ]
  },
  {
   "cell_type": "markdown",
   "metadata": {},
   "source": [
    "## PART 1\n"
   ]
  },
  {
   "cell_type": "markdown",
   "metadata": {},
   "source": [
    "**Implement 2D convolution using Python. Complete the following tasks:**\n",
    "1. Write a 2D convolution function **CONV2**. The inputs of this function should be an image array and a filter array, and the output should be the convolved image. Your output image should have a size equal to the original image (similar to the “SAME” option of MATLAB conv2 function). For simplicity, you can assume the filter has an odd length in both horizontal and vertical dimensions and has an origin at the center. Also you can assume pixel values are zero outside the original input image.\n",
    "2. Write a main function, which will call the convolution function from **part 1)** to filter a given image with a given filter. The program should show the original image and the filtered image (**make sure to normalize the output image to lie between 0-255**). The program will also calculate and display the magnitude of Fourier transform of the original and filtered image, as well as frequency response of the filter. (In Python, you can use fft2() in numpy package)\n",
    "3. Using your main program to filter an image with the following three filters:\n",
    "![](Q_FIGURES/F1.png)\n",
    "\n",
    "**NOTE**\n",
    "\n",
    "- The input to the convolution function should a single channel image (e.g. gray scale).\n",
    "- Your main program can be flexible. You may allow both color and gray image as input, but if the input is color, you convert it to gray. You can use the fft2( ) function to calculate the Fourier transform and freq response. \n"
   ]
  },
  {
   "cell_type": "code",
   "execution_count": 1,
   "metadata": {},
   "outputs": [],
   "source": [
    "import numpy as np\n",
    "import cv2\n",
    "import matplotlib.pyplot as plt\n",
    "import matplotlib"
   ]
  },
  {
   "cell_type": "code",
   "execution_count": null,
   "metadata": {},
   "outputs": [],
   "source": [
    "def conv2(img,kernel):\n",
    "    # ZERO PADDING THE ORIGINAL IMAGE \n",
    "    # so that the convolved image can be obtained by sliding the flipped kernel over the padded image\n",
    "    \n",
    "    m = int(kernel.shape[1]/2) # half of kernel width\n",
    "    n = int(kernel.shape[0]/2) # half of kernal height\n",
    "    c_pad = np.zeros((img.shape[0],m))# COLUMN PAD\n",
    "    r_pad = np.zeros((n,img.shape[1]+(2*m)))# ROW PAD\n",
    "    img_padded = np.hstack((c_pad,img)) # pad zeros on the left boundary\n",
    "    \n",
    "    ##########################################    [TODO 1]    ##########################################\n",
    "    # Pad zreos on the other boundaries\n",
    "    # ....\n",
    "    img_rpadded = np.hstack((r_pad,img))\n",
    "    \n",
    "    \n",
    "    # FLIP the filter KERNEL\n",
    "    ##########################################    [TODO 2]    ##########################################\n",
    "    # (Hint: using np.flip( ))\n",
    "    # ....\n",
    "    f1=np.flip('f1.png')\n",
    "  \n",
    "    # Creating a new image of zeros with the same size as the input\n",
    "    ##########################################    [TODO 3]    ##########################################\n",
    "    img_final = ....\n",
    "    img_final = img_final.astype(float) \n",
    "    \n",
    "    # Perform convolution\n",
    "    # Hint: you should go through a loop to compute the value of each pixel of the convolved image\n",
    "    ##########################################    [TODO 4]    ##########################################\n",
    "    # .....  \n",
    "    \n",
    "    # RETURN CONVOLVED IMAGE\n",
    "    return img_final\n",
    "    "
   ]
  },
  {
   "cell_type": "code",
   "execution_count": null,
   "metadata": {},
   "outputs": [],
   "source": [
    "def main(img,KERNEL):\n",
    "    \n",
    "    # FUNCTION CALL TO CONV2 PASSING THE IMG AND KERNEL AS INPUT ARGUMENTS\n",
    "    img_output = conv2(img,KERNEL)\n",
    "    \n",
    "    # to normalize the output to lie between 0-1\n",
    "    img_output = (img_output-np.min(img_output))/(np.max(img_output)-np.min(img_output))\n",
    "    \n",
    "    ##########################################    [TODO 5]    ##########################################\n",
    "    # You should save this image to disk, and submit it as a part of your assignment\n",
    "    \n",
    "    # SHOW ORIGINAL AND FILTERED IMAGE\n",
    "    plt.figure(1)\n",
    "    plt.imshow(img,cmap='gray')\n",
    "    plt.title('original image')\n",
    "    plt.figure(2)\n",
    "    plt.imshow(img_output,cmap='gray')\n",
    "    plt.title('filtered image')\n",
    "    \n",
    "    # CALCULATE AND DISPLAY THE FFT'S OF ORIGINAL IMAGE, CONVOLVED IMAGE AND FILTER KERNEL\n",
    "    # USE THE NUMPY.FFT.FFT2()\n",
    "    fft_original = np.absolute(np.fft.fftshift(np.fft.fft2(img)))\n",
    "    fft_original_lg = 20*np.log(fft_original+1)\n",
    "    \n",
    "    ##########################################    [TODO 6]    ##########################################\n",
    "    # CALCULATE AND DISPLAY THE FFT'S OF CONVOLVED IMAGE\n",
    "    fft_output = ...  \n",
    "    fft_output_lg = ...\n",
    "    \n",
    "    ##########################################    [TODO 7]    ##########################################\n",
    "    # CALCULATE AND DISPLAY THE FFT'S OF CONVOLVED IMAGE\n",
    "    fft_filt = ...   # Hint: you should use FFT size equal to the image size for easy comparison\n",
    "    fft_filt_lg = ...\n",
    "     \n",
    "    f,ax = plt.subplots(1,3,figsize=(15,15))\n",
    "    ax[0].imshow(fft_original_lg,cmap='gray') \n",
    "    ax[1].imshow(fft_output_lg,cmap='gray')\n",
    "    ax[2].imshow(fft_filt_lg,cmap='gray')\n",
    "    plt.title('frequency domain representation of the images and kernel')"
   ]
  },
  {
   "cell_type": "code",
   "execution_count": null,
   "metadata": {},
   "outputs": [],
   "source": [
    "# function call to main()\n",
    "\n",
    "# Read in an image. You can choose any image\n",
    "file_name = '...'# SPECIFY YOUR IMAGE FILE NAME\n",
    "img = cv2.imread(filename,0) # 0 for reading in black and white   \n",
    "img = img.astype(float) # Convert to float before convolution\n",
    "   \n",
    "\n",
    "# DEFINE THE FILTER KERNEL SPECIFIED IN THE QUESTION ABOVE\n",
    "KERNEL = np.array([[1,2,1],[2,4,2],[1,2,1]])/16 # FIRST KERNEL DEFINED IN THE QUESTION\n",
    "main(img,KERNEL)\n",
    "\n"
   ]
  },
  {
   "cell_type": "code",
   "execution_count": null,
   "metadata": {},
   "outputs": [],
   "source": [
    "# Repeat for the other filter kernels\n",
    "##########################################    [TODO 8]    ##########################################"
   ]
  },
  {
   "cell_type": "markdown",
   "metadata": {},
   "source": [
    "### DISCUSSION ABOUT RESULTS\n",
    "- For each filter, discuss the difference between the original and filtered image, both in the spatial and frequency domain and explain how does the filtering effect correlate with the filter and its frequency response.\n",
    "- **fill in your response in the cell below**"
   ]
  },
  {
   "cell_type": "markdown",
   "metadata": {},
   "source": [
    "#### discuss results here (modify this cell)"
   ]
  },
  {
   "cell_type": "markdown",
   "metadata": {},
   "source": [
    "## PART 2"
   ]
  },
  {
   "cell_type": "markdown",
   "metadata": {},
   "source": [
    "##### **Image noise removal using averaging and Gaussian filters**\n",
    "1. Create a noisy image, by adding zero mean Gaussian random noise to your image\n",
    " - In Python, the noise can be generated by using “np.random.normal($\\mu$,$\\sigma$,(img.shape))”\n",
    "2. Apply **CONV2** to filter the noise-added image using an **average filter of size n x n**, where n=odd\n",
    "3. Apply **CONV2** to filter the noise-added image using a **Gaussian filter of size n x n** (Recall that with Gaussian filter, the filter size and the Gaussian filter parameter σ should satisfy n>=5σ)\n",
    " - Try two different noise levels (0.01*255 and 0.1*255) and for each noise level different filter sizes (ex: 5x5 to 9x9 in step size of 2).\n",
    "\n",
    "**OUTPUT**\n",
    "- show the original\n",
    "- noise-added\n",
    "- filtered images for each combination of noise level and filter size.\n",
    "\n",
    "** If your CONV2 function does not seem to work properly, you could use the python function cv2.filter2D  **\n"
   ]
  },
  {
   "cell_type": "code",
   "execution_count": null,
   "metadata": {
    "scrolled": false
   },
   "outputs": [],
   "source": [
    "##########################################    [TODO 9]    ##########################################\n",
    "file_name = '...'# SPECIFY YOUR IMAGE FILE NAME\n",
    "img_2 = ... # READ THE IMAGE FILE AND ONLY USE THE GRAY VERSION\n",
    "img_2 = ... # convert to float\n",
    "\n",
    "# create zero mean gaussian noise of same size as the image. noise level 0.01\n",
    "n1 = np.random.normal(0,0.01,img_2.shape)*255\n",
    "\n",
    "##########################################    [TODO 10]    ##########################################\n",
    "# create zero mean gaussian noise. noise level 0.1\n",
    "# n2 = ...\n",
    "\n",
    "# add generated noise to the image. create 2 noisy images with different levels of noise\n",
    "img_n1 = img_2 + n1\n",
    "img_n2 = img_2 + n2\n",
    "\n",
    "\n",
    "# create a 5x5 AVERAGING kernel\n",
    "kernel1_avg = np.ones((5,5))/25\n",
    "\n",
    "##########################################    [TODO 11]    ##########################################\n",
    "# create a 7x7 AVERAGING kernel\n",
    "# kernel2_avg = ...\n",
    "\n",
    "\n",
    "# CREATING a 5X5 GAUSSIAN KERNEL\n",
    "x = np.arange(-2, 3, 1)\n",
    "y = np.arange(-2, 3, 1)\n",
    "x2d, y2d = np.meshgrid(x, y)\n",
    "sigma = 1\n",
    "kernel_2d = np.exp(-(x2d ** 2 + y2d ** 2) / (2 * sigma ** 2))\n",
    "kernel_2d = kernel_2d / (2 * np.pi * sigma ** 2) # unit integral\n",
    "kernel_2d = kernel_2d/np.sum(kernel_2d) \n",
    "kernel1_gaus = kernel_2d\n",
    "\n",
    "##########################################    [TODO 12]    ##########################################\n",
    "# CREATE 7X7 GAUSSIAN KERNEL\n",
    "# kernel2_gaus = \n",
    "\n",
    "\n",
    "\n",
    "# function call to conv2 with 5x5 averaging filter. noise level 0.01\n",
    "output_n1_avg1 = conv2(img_n1,kernel1_avg)\n",
    "\n",
    "##########################################    [TODO 13]    ##########################################\n",
    "# function call to conv2 with 7x7 averaging filter. noise level 0.01\n",
    "output_n1_avg2 = ...\n",
    "\n",
    "# function call to conv2 with 5x5 gaussian filter. noise level 0.01\n",
    "output_n1_gaus1 = ... \n",
    "output_n1_gaus2 = ...\n",
    "\n",
    "# Repeat for noisy image with noise level 0.1\n",
    "##########################################    [TODO 14]    ##########################################\n",
    "output_n2_avg1 = ...\n",
    "output_n2_avg2 = ...\n",
    "output_n2_gaus1 = ...\n",
    "output_n2_gaus2 = ...\n",
    "\n",
    "\n",
    "f,ax = plt.subplots(3,2,figsize = (15,15))\n",
    "ax[0,0].imshow(img_2,cmap='gray')\n",
    "ax[0,0].set_title('original image')\n",
    "ax[0,1].imshow(img_n1,cmap='gray')\n",
    "ax[0,1].set_title('noisy image. sigma = 0.01 ')\n",
    "ax[1,0].imshow(output_n1_avg1,cmap='gray')\n",
    "ax[1,1].imshow(output_n1_avg2,cmap='gray')\n",
    "ax[2,0].imshow(output_n1_gaus1,cmap='gray')\n",
    "ax[2,1].imshow(output_n1_gaus2,cmap='gray')\n",
    "ax[1,0].set_title('filtered with avg 5x5')\n",
    "ax[1,1].set_title('filtered with avg7x7')\n",
    "ax[2,0].set_title('filtered with gauss 5x5')\n",
    "ax[2,1].set_title('filtered with gauss 7x7')\n",
    "plt.subplots_adjust(wspace=0.3, hspace=0.3)\n",
    "plt.show()\n",
    "print('#################################################################')\n",
    "\n",
    "\n",
    "##########################################    [TODO 15]    ##########################################\n",
    "# PLOT THE INPUT, THE NOISY IMAGE AND THE OUTPUT OBTAINED BY DENOISING THE IMAGE WITH NOISE(SIGMA=0.1)\n"
   ]
  },
  {
   "cell_type": "markdown",
   "metadata": {},
   "source": [
    "### DISCUSSION ABOUT THE RESULTS\n",
    "**Comment on for each noise level, which filter size is best for each filter and how does the two filters compare in their noise removal capability.**"
   ]
  },
  {
   "cell_type": "markdown",
   "metadata": {},
   "source": [
    "#### Discuss results here.(modify this cell)"
   ]
  },
  {
   "cell_type": "markdown",
   "metadata": {},
   "source": [
    "## Submission Instructions\n",
    "\n",
    "- Please submit two files in NYUclasses as two separate attachment:\n",
    " - A pdf version of the notebbok (that includes the results/figures and comments you have for any results)\n",
    " - A zip file including all following files named **your-last-name-CA01**\n",
    "     - The python notebook as a _.ipynb_ file with the name as **your-last-name-CA01** \n",
    "     - Add all the saved images in a folder named _output-images_"
   ]
  }
 ],
 "metadata": {
  "kernelspec": {
   "display_name": "Python 3",
   "language": "python",
   "name": "python3"
  },
  "language_info": {
   "codemirror_mode": {
    "name": "ipython",
    "version": 3
   },
   "file_extension": ".py",
   "mimetype": "text/x-python",
   "name": "python",
   "nbconvert_exporter": "python",
   "pygments_lexer": "ipython3",
   "version": "3.7.1"
  }
 },
 "nbformat": 4,
 "nbformat_minor": 2
}
