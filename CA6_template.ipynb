{
 "cells": [
  {
   "cell_type": "code",
   "execution_count": 1,
   "metadata": {},
   "outputs": [
    {
     "ename": "ModuleNotFoundError",
     "evalue": "No module named 'cv2'",
     "output_type": "error",
     "traceback": [
      "\u001b[0;31m---------------------------------------------------------------------------\u001b[0m",
      "\u001b[0;31mModuleNotFoundError\u001b[0m                       Traceback (most recent call last)",
      "\u001b[0;32m<ipython-input-1-591ada173ad1>\u001b[0m in \u001b[0;36m<module>\u001b[0;34m\u001b[0m\n\u001b[0;32m----> 1\u001b[0;31m \u001b[0;32mimport\u001b[0m \u001b[0mcv2\u001b[0m\u001b[0;34m\u001b[0m\u001b[0;34m\u001b[0m\u001b[0m\n\u001b[0m\u001b[1;32m      2\u001b[0m \u001b[0;32mimport\u001b[0m \u001b[0mnumpy\u001b[0m \u001b[0;32mas\u001b[0m \u001b[0mnp\u001b[0m\u001b[0;34m\u001b[0m\u001b[0;34m\u001b[0m\u001b[0m\n\u001b[1;32m      3\u001b[0m \u001b[0;32mimport\u001b[0m \u001b[0mmatplotlib\u001b[0m\u001b[0;34m.\u001b[0m\u001b[0mpyplot\u001b[0m \u001b[0;32mas\u001b[0m \u001b[0mplot\u001b[0m\u001b[0;34m\u001b[0m\u001b[0;34m\u001b[0m\u001b[0m\n\u001b[1;32m      4\u001b[0m \u001b[0mget_ipython\u001b[0m\u001b[0;34m(\u001b[0m\u001b[0;34m)\u001b[0m\u001b[0;34m.\u001b[0m\u001b[0mrun_line_magic\u001b[0m\u001b[0;34m(\u001b[0m\u001b[0;34m'matplotlib'\u001b[0m\u001b[0;34m,\u001b[0m \u001b[0;34m'inline'\u001b[0m\u001b[0;34m)\u001b[0m\u001b[0;34m\u001b[0m\u001b[0;34m\u001b[0m\u001b[0m\n",
      "\u001b[0;31mModuleNotFoundError\u001b[0m: No module named 'cv2'"
     ]
    }
   ],
   "source": [
    "import cv2\n",
    "import numpy as np\n",
    "import matplotlib.pyplot as plot\n",
    "%matplotlib inline"
   ]
  },
  {
   "cell_type": "markdown",
   "metadata": {},
   "source": [
    "Write a code that implements a basic form of the block-based hybrid video coder for coding\n",
    "a P-frame using a fixed block size of 8x8. For simplicity, consider intra-prediction using only\n",
    "the first 3 intra prediction modes shown below over 8x8 blocks, and inter-prediction using\n",
    "integer accuracy EBMA, with a specified search range, e.g. +/-24. You program should do\n",
    "the following for each block: \n",
    "- i) find the best intra-prediction mode and the corresponding\n",
    "error block and the mean squared error (MSE) of the prediction; \n",
    "- ii) find the best MV for inter-prediction and the corresponding\n",
    "error block and its MSE; \n",
    "- iii) Choose the prediction block whose prediction error has the\n",
    "smaller MSE; \n",
    "- iv) Perform 8x8 DCT on the prediction error block of the chosen mode; \n",
    "- v) Quantize all the DCT coefficients with the same quantization step-size (QS) q; Note that you should assume the prediction error has zero mean and use a quantizer that is symmetric with respect to 0;  \n",
    "- vi) Count how many non-zero coefficients you have after quantization, \n",
    "- vii) Reconstruct the error block by performing inverse DCT on quantized DCT coefficients; \n",
    "- viii) Reconstruct the original block by adding the reconstructed error block into the best prediction block. \n",
    "![img](img.png)\n",
    "Instead of developing a real entropy coder, we will use the total number of non-zero DCT coefficients as an\n",
    "estimate of the bit rate and ignore the bits needed to code the side information (mode info,\n",
    "motion vector, etc.). Your program should determine the PSNR of the reconstructed image\n",
    "(compared to the original image) and the total number of non-zero quantized DCT\n",
    "coefficients K, for a given quantization step-size q.\n",
    "\n",
    "You should repeat the above operations(iv,v,vi,vii,viii) for a set of q=1,2,4,8, 16, and determine the PSNR and K for each q, and draw the resulting PSNR vs. K curve, as a substitute for the PSNR vs. rate curve.\n",
    "\n",
    "You can download the dataset from the following link:\n",
    "https://www.dropbox.com/sh/dslrefteks5onvx/AADk4XNr7pZh23BamcqBrEzqa?dl=0"
   ]
  },
  {
   "cell_type": "code",
   "execution_count": null,
   "metadata": {
    "collapsed": true
   },
   "outputs": [],
   "source": [
    "################################################ TODO ###############################################\n",
    "# Read in two frames that are several frames apart.\n",
    "# For example, frame100 and frame110\n",
    "# Convert them to gray scale, then plot\n",
    "img1 = ...\n",
    "img1 = img1.astype('float')\n",
    "img1 = cv2.resize(img1,(1600,1024))\n",
    "\n",
    "img2 = ...\n",
    "img2 = img2.astype('float')\n",
    "img2 = cv2.resize(img2,(1600,1024))\n",
    "\n",
    "plot...\n",
    "\n",
    "\n",
    "\n"
   ]
  },
  {
   "cell_type": "code",
   "execution_count": null,
   "metadata": {
    "collapsed": true
   },
   "outputs": [],
   "source": [
    "################################################ TODO ###############################################\n",
    "# Define mse() which calculates the mse of the error block\n",
    "def mse(error):\n",
    "    mse = ...\n",
    "    return mse\n"
   ]
  },
  {
   "cell_type": "code",
   "execution_count": null,
   "metadata": {
    "collapsed": true
   },
   "outputs": [],
   "source": [
    "################################################ TODO ###############################################\n",
    "# Define EBMA() which takes as input the template(target block), image, template location(x0, y0) and search range\n",
    "# Return the matching block and the motion vector\n",
    "def EBMA(template,img,x0,y0,range_x,range_y):\n",
    "    # get the number of rows and columns of the image\n",
    "    rows, cols = ...\n",
    "    # get the number of rows and columns of the template\n",
    "    b_rows, b_cols = ...\n",
    "    # initialize maximum error, motion vector and matchblock\n",
    "    max_mse = ...\n",
    "    xm = ...\n",
    "    ym = ...\n",
    "    matchblock = ...\n",
    "    # loop over the searching range to find the matchblock with the smallest error.\n",
    "    for i in range(max(1,x0-range_x),min(rows-b_rows,x0+range_x)):\n",
    "        for j in range(max(1,y0-range_y),min(cols-b_cols,y0+range_y)):\n",
    "            candidate = ...\n",
    "            error = ...\n",
    "            mse = ...\n",
    "            if mse < max_mse:\n",
    "                # update motion vector, matchblock and max_error if the error of the new block is smaller\n",
    "                xm = ...\n",
    "                ym = ...\n",
    "                matchblock = ...\n",
    "                max_mse = ...\n",
    "    return xm, ym, matchblock"
   ]
  },
  {
   "cell_type": "code",
   "execution_count": null,
   "metadata": {
    "collapsed": true
   },
   "outputs": [],
   "source": [
    "################################################ TODO ###############################################\n",
    "# define quantization function to quantize the dct coefficients\n",
    "# recall the quantization function: Q(f)=floor( (f-mean+Q/2)/Q) *Q+mean\n",
    "# Suppose the mean of the dct coefficients of the error image is 0\n",
    "def quant(dct_coef, q):\n",
    "    rows, cols = ...\n",
    "    dctimg_quant = ...\n",
    "    \n",
    "    return dctimg_quant"
   ]
  },
  {
   "cell_type": "code",
   "execution_count": null,
   "metadata": {
    "collapsed": true
   },
   "outputs": [],
   "source": [
    "################################################ TODO ###############################################\n",
    "# Loop through all blocks and find the blocks with minimum error variance. \n",
    "# define searching range for EBMA\n",
    "range_x = ...\n",
    "range_y = ...\n",
    "# get the rows and columns of the images.\n",
    "rows, cols = ...\n",
    "# define the block size\n",
    "N = ...\n",
    "# initialize the predicted block, error block, variance array\n",
    "pred = ...\n",
    "err = ...\n",
    "min_pred_block = np.zeros((N,N))\n",
    "min_err_block = np.zeros((N,N))\n",
    "\n",
    "# initialize the predicted quantized block \n",
    "pred_quant = ...\n",
    "\n",
    "\n",
    "for i in range(int(rows/N)):\n",
    "    for j in range(int(cols/N)):\n",
    "        #get the current block\n",
    "        patch = ...\n",
    "        min_MSE=N*N*255^2 \n",
    "\n",
    "        # mode 0\n",
    "        pred_block = ...\n",
    "        # get the error block between the predicted block and the current block\n",
    "        err_block = ...\n",
    "        # calculate the mse of the error block\n",
    "        mse = ...\n",
    "        # updata the predicted block and error block if the mse is smaller\n",
    "        if errvar < min_MSE: \n",
    "            min_pred_block = ...\n",
    "            min_err_block = ...\n",
    "            min_MSE = ...\n",
    "            \n",
    "        #mode 1\n",
    "        pred_block = ...\n",
    "        err_block =...\n",
    "        mse = ...\n",
    "        if errvar < min_MSE: \n",
    "            min_pred_block = ...\n",
    "            min_err_block = ...\n",
    "            min_MSE = ...\n",
    "        \n",
    "        #mode 2\n",
    "        pred_block = ...\n",
    "        err_block = ...\n",
    "        mse = ...\n",
    "        if errvar < min_MSE: \n",
    "            min_pred_block = ...\n",
    "            min_err_block = ...\n",
    "            min_MSE = ...\n",
    "\n",
    "        #inter-prediction\n",
    "        #perform EBMA to the current block in img1\n",
    "        xm,ym,pred_block = ...\n",
    "        err_block = ...\n",
    "        mse = ...\n",
    "        if errvar < min_MSE: \n",
    "            min_pred_block = ...\n",
    "            min_err_block = ...\n",
    "            min_MSE = ...\n",
    "            \n",
    "        # Perform DCT to the error block with the minimum error variance\n",
    "        dct_block = ...\n",
    "        # Quantize it with Q=2\n",
    "        dct_block_q = ...\n",
    "        # Count the number of nonzeros in the quantized coefficients\n",
    "        non_zero = ...\n",
    "        # Perform IDCT to the quantized coefficients\n",
    "        rec_err_block = ...\n",
    "        # Reconstruct the block by adding the predicted block to the reconstructed error block\n",
    "        pred_quant[i*N:(i+1)*N,j*N:(j+1)*N] = ...   \n",
    "        \n",
    "\n",
    "\n",
    "\n",
    "\n",
    "\n",
    "\n"
   ]
  },
  {
   "cell_type": "code",
   "execution_count": null,
   "metadata": {
    "collapsed": true
   },
   "outputs": [],
   "source": [
    "################################################ TODO ###############################################\n",
    "# plot the predicted image, error image and the reconstructed image\n",
    "plot..."
   ]
  },
  {
   "cell_type": "code",
   "execution_count": null,
   "metadata": {
    "collapsed": true
   },
   "outputs": [],
   "source": [
    "################################################ TODO ###############################################\n",
    "# QUANTIZE WITH DIFFERENT STEP SIZE: 1,2,4,8,...\n",
    "pre_q = ...\n",
    "dct_block_q = ...\n",
    "non_zeros = ...\n",
    "PSNR = ...\n",
    "for q in range(...):\n",
    "    for i in range(int(rows/N)):\n",
    "        for j in range(int(cols/N)):\n",
    "            # perform DCT to the current error patch\n",
    "            dct_block = ...\n",
    "            # quantize the coefficients\n",
    "            dct_block_q[...] = ...\n",
    "            # IDCT \n",
    "            rec_err_block[...] = ...\n",
    "            # reconstruct the block\n",
    "            pre_q[...] = ...\n",
    "    # calculate the number of non-zeros\n",
    "    non_zeros[q] = ...\n",
    "    # calculate PSNR\n",
    "    PSNR[q] = ...\n",
    "#plot the curve of # of nonzeros vs PSNR\n",
    "plot..."
   ]
  },
  {
   "cell_type": "code",
   "execution_count": null,
   "metadata": {
    "collapsed": true
   },
   "outputs": [],
   "source": []
  },
  {
   "cell_type": "code",
   "execution_count": null,
   "metadata": {
    "collapsed": true
   },
   "outputs": [],
   "source": []
  },
  {
   "cell_type": "code",
   "execution_count": null,
   "metadata": {
    "collapsed": true
   },
   "outputs": [],
   "source": []
  },
  {
   "cell_type": "code",
   "execution_count": null,
   "metadata": {
    "collapsed": true
   },
   "outputs": [],
   "source": []
  },
  {
   "cell_type": "code",
   "execution_count": null,
   "metadata": {
    "collapsed": true
   },
   "outputs": [],
   "source": []
  },
  {
   "cell_type": "code",
   "execution_count": null,
   "metadata": {
    "collapsed": true
   },
   "outputs": [],
   "source": []
  }
 ],
 "metadata": {
  "kernelspec": {
   "display_name": "Python 2",
   "language": "python",
   "name": "python2"
  },
  "language_info": {
   "codemirror_mode": {
    "name": "ipython",
    "version": 2
   },
   "file_extension": ".py",
   "mimetype": "text/x-python",
   "name": "python",
   "nbconvert_exporter": "python",
   "pygments_lexer": "ipython2",
   "version": "2.7.15"
  }
 },
 "nbformat": 4,
 "nbformat_minor": 2
}
