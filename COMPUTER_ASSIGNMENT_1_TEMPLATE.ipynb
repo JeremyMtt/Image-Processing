{
 "cells": [
  {
   "cell_type": "markdown",
   "metadata": {},
   "source": [
    "# COMPUTER ASSIGNMENT 1\n"
   ]
  },
  {
   "cell_type": "markdown",
   "metadata": {},
   "source": [
    "- In class we learned about different color representations. \n",
    "- **HSL** (Hue, Saturation, Lightness) and **HSV** (Hue, Saturation, Value) are two alternative representations of the RGB color model. Hue represents dominant color as perceived by an observer and can be used for simple color detection. Take the following steps:\n",
    " 1. **[ TODO 1 ]** Load the a color image of your choice (if you wish you can choose an image from the sample images provided at the course website as a colored image. You can refer to _Example4.py_ for loading a colored image.\n",
    " - **[ TODO 2 ]** Use **cv2.cvtColor()** function to convert the BGR image to HSV. As an input to this function you should use **cv2.COLOR_BGR2HSV**.\n",
    " - **[ TODO 3 ] Use **cv2.inRange()** function to find the pixels in the HSV image that their values are in the range of blue color. Your result should be a binary mask. ** The lower and upper limits for the blue color are _[110,50,50]_ and _[130,255,255]_, respectively. \n",
    " - **[ TODO 4 ]** Use **cv2.bitwise_and()** function to create an image containing only the blue parts.\n",
    " - **[ TODO 5 ]** Display the original image and the mask and the detected blue parts. Furthermore, save the resulting images.  For displaying and saving images you can refer to Example4.py\n",
    "\n",
    "Your results should look like the following. \n",
    "![](./Figures/Figure_1.png)"
   ]
  },
  {
   "cell_type": "markdown",
   "metadata": {},
   "source": [
    "## PART 1\n"
   ]
  },
  {
   "cell_type": "raw",
   "metadata": {},
   "source": [
    "\n",
    "  "
   ]
  },
  {
   "cell_type": "code",
   "execution_count": null,
   "metadata": {},
   "outputs": [],
   "source": [
    "import cv2\n",
    "import numpy as np\n",
    "img = cv2.imread('colors.jpg',1)"
   ]
  },
  {
   "cell_type": "markdown",
   "metadata": {},
   "source": [
    "- Print the size of the image loaded "
   ]
  },
  {
   "cell_type": "code",
   "execution_count": null,
   "metadata": {},
   "outputs": [],
   "source": [
    "print(img.shape)"
   ]
  },
  {
   "cell_type": "markdown",
   "metadata": {},
   "source": [
    "- Code for color conversion"
   ]
  },
  {
   "cell_type": "code",
   "execution_count": null,
   "metadata": {},
   "outputs": [],
   "source": [
    "img_HSV = cv2.cvtColor(img,cv2.COLOR_BGR2HSV)\n",
    "\n"
   ]
  },
  {
   "cell_type": "markdown",
   "metadata": {},
   "source": [
    "- Code for finding the HUE for color **BLUE**"
   ]
  },
  {
   "cell_type": "code",
   "execution_count": null,
   "metadata": {},
   "outputs": [],
   "source": [
    "lower_blue = np.array([110,50,50])\n",
    "upper_blue = np.array([130,255,255])\n",
    "MaskImagine = cv2.inRange(img_HSV, lower_blue, upper_blue)\n"
   ]
  },
  {
   "cell_type": "markdown",
   "metadata": {},
   "source": [
    "- CODE FOR IMAGE MANIPULATION(Use the bitwise and to extract certain features)\n"
   ]
  },
  {
   "cell_type": "code",
   "execution_count": null,
   "metadata": {},
   "outputs": [],
   "source": [
    "SegmentedImagine = cv2.bitwise_and(img, img, mask=MaskImagine)\n"
   ]
  },
  {
   "cell_type": "markdown",
   "metadata": {},
   "source": [
    "- CODE to **display results** \n",
    "- CODE to **save resulting images ** "
   ]
  },
  {
   "cell_type": "code",
   "execution_count": null,
   "metadata": {},
   "outputs": [],
   "source": [
    "cv2.imshow('image',img)\n",
    "cv2.imshow('MaskImagine', MaskImagine)\n",
    "cv2.imshow('SegmentedImagine', SegmentedImagine)\n",
    "cv2.waitKey()\n"
   ]
  },
  {
   "cell_type": "markdown",
   "metadata": {},
   "source": [
    "## PART 2"
   ]
  },
  {
   "cell_type": "markdown",
   "metadata": {},
   "source": [
    "### Histogram Operations\n",
    "- In this exercise we will explore the histogram equalization of gray-scale images. \n",
    "   \n",
    " - You can also find useful sample codes in the following link from OpenCV tutorials- [TUTORIALS](http://opencv-python-tutroals.readthedocs.io/en/latest/py_tutorials/py_imgproc/py_histograms/py_table_of_contents_histograms/py_table_of_contents_histograms.html )\n",
    "\n",
    "- Take the following steps:\n",
    " 1. **[ TODO 6 ]** Load the **wiki.jpg** image from sample images as a gray-scale image using **cv2.imread()** function. Note: set the second argument of cv2.imread() function to **zero** for gray-scale.\n",
    " - **[ TODO 7 ]** Calculate the histogram of the image. **numpy.histogram()** function can be used for calculation of the histogram. Refer to following link for more information:[HISTOGRAMS](https://docs.scipy.org/doc/numpy-1.13.0/reference/generated/numpy.histogram.html) \n",
    " - **[ TODO 8 ]** Calculate the cdf using the **np.cumsum()** function and proper normalization.\n",
    " - **[ TODO 9 ]** Compute and apply the histogram equalizing function using the algorithm described in class.\n",
    " - **[ TODO 10 ]** Display the results.\n",
    " \n",
    "Expected Output:\n",
    "![](./Figures/Figure_2.png)\n"
   ]
  },
  {
   "cell_type": "markdown",
   "metadata": {},
   "source": [
    "- Code to read the image"
   ]
  },
  {
   "cell_type": "code",
   "execution_count": null,
   "metadata": {},
   "outputs": [],
   "source": [
    "import cv2\n",
    "import numpy as np\n",
    "from matplotlib import pyplot as plt\n",
    "img = cv2.imread('wiki.jpg',0)\n",
    "cv2.imshow('1',img)\n",
    "cv2.waitKey()"
   ]
  },
  {
   "cell_type": "markdown",
   "metadata": {},
   "source": [
    "- Find the Histogram"
   ]
  },
  {
   "cell_type": "code",
   "execution_count": null,
   "metadata": {},
   "outputs": [],
   "source": [
    "hist,bins=np.histogram(img.flatten(),bins=256,range=(0,256)\n",
    "print(bins)\n",
    "print(hist)"
   ]
  },
  {
   "cell_type": "markdown",
   "metadata": {},
   "source": [
    "- Calculate the CDF\n"
   ]
  },
  {
   "cell_type": "code",
   "execution_count": null,
   "metadata": {},
   "outputs": [],
   "source": [
    "cdf = hist.cumsum()\n",
    "print(cdf)\n",
    "cdf_normalized = cdf * 255/ cdf[-1]\n",
    "img_histeq = cdf_normalized[img]"
   ]
  },
  {
   "cell_type": "markdown",
   "metadata": {},
   "source": [
    "- Apply Histogram Equilization"
   ]
  },
  {
   "cell_type": "code",
   "execution_count": null,
   "metadata": {},
   "outputs": [],
   "source": [
    "cdf_normalized = cdf * 255/ cdf[-1]\n",
    "img_histeq = cdf_normalized[img]\n",
    "\n"
   ]
  },
  {
   "cell_type": "markdown",
   "metadata": {},
   "source": [
    "- **Display results** and **save image**"
   ]
  },
  {
   "cell_type": "code",
   "execution_count": null,
   "metadata": {},
   "outputs": [],
   "source": [
    "# TODO - 10\n",
    "fig = plt.figure()\n",
    "ax1 = plt.subplot(2,2,1)\n",
    "ax1.get_xaxis().set_visible(False)\n",
    "ax1.get_yaxis().set_visible(False)\n",
    "plt.imshow(img,cmap=plt.cm.gray)\n",
    "ax2 = plt.subplot(2,2,2)\n",
    "plt.hist(img.ravel(),256,[0,256])\n",
    "ax3 = plt.subplot(2,2,3)\n",
    "ax3.get_xaxis().set_visible(False)\n",
    "ax3.get_yaxis().set_visible(False)\n",
    "plt.imshow(img_histeq,cmap=plt.cm.gray)\n",
    "ax4 = plt.subplot(2,2,4)\n",
    "plt.hist(img_histeq.ravel(),256,[0,256])\n",
    "plt.show()\n",
    "cv2.imwrite('imageoutput.jpg',img_histeq)"
   ]
  },
  {
   "cell_type": "markdown",
   "metadata": {},
   "source": [
    "## Submission Instructions\n",
    "\n",
    "- Please submit two files in NYUclasses as two separate attachment:\n",
    " - A pdf version of the notebbok (that includes the results/figures and comments you have for any results)\n",
    " - A zip file including all following files named **your-netid-CA01**\n",
    "     - The python notebook as a _.ipynb_ file with the name as **your-netid-CA01**\n",
    "     - The pdf version of the notebbok \n",
    "     - Add all the saved images in a folder named _output-images_\n",
    " "
   ]
  }
 ],
 "metadata": {
  "kernelspec": {
   "display_name": "Python 3",
   "language": "python",
   "name": "python3"
  },
  "language_info": {
   "codemirror_mode": {
    "name": "ipython",
    "version": 3
   },
   "file_extension": ".py",
   "mimetype": "text/x-python",
   "name": "python",
   "nbconvert_exporter": "python",
   "pygments_lexer": "ipython3",
   "version": "3.7.1"
  }
 },
 "nbformat": 4,
 "nbformat_minor": 2
}
